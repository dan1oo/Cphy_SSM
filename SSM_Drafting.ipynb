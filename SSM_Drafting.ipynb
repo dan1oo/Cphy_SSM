{
 "cells": [
  {
   "cell_type": "markdown",
   "id": "6258f708",
   "metadata": {},
   "source": [
    "**This Notebook will be used for the purpose of step by step drafting and implementing a SSM in python.**"
   ]
  },
  {
   "cell_type": "markdown",
   "id": "c3121a55",
   "metadata": {},
   "source": [
    "Resources: https://arxiv.org/abs/2111.00396"
   ]
  },
  {
   "cell_type": "markdown",
   "id": "831e5597",
   "metadata": {},
   "source": [
    "It can be seen that an **SSM** is based on three variables that depend on time $t$:\n",
    "\n",
    "- $x(t) \\in \\mathbb{C}^n$ represents the $n$ state variables,  \n",
    "- $u(t) \\in \\mathbb{C}^m$ represents the $m$ state inputs,  \n",
    "- $y(t) \\in \\mathbb{C}^p$ represents the $p$ outputs.\n",
    "\n",
    "We can also see that it's made up of four learnable matrices: **A**, **B**, **C**, and **D**.\n",
    "\n",
    "- $\\mathbf{A} \\in \\mathbb{C}^{n \\times n}$ is the state matrix (controlling the latent state $\\mathbf{x}$),  \n",
    "- $\\mathbf{B} \\in \\mathbb{C}^{n \\times m}$ is the control matrix,  \n",
    "- $\\mathbf{C} \\in \\mathbb{C}^{p \\times n}$ is the output matrix,  \n",
    "- $\\mathbf{D} \\in \\mathbb{C}^{p \\times m}$ is the command matrix.  \n",
    "\n",
    "The above picture can be reduced to the following system of equations:\n",
    "\n",
    "$$\n",
    "\\begin{aligned}\n",
    "x'(t) &= \\mathbf{A}x(t) + \\mathbf{B}u(t) \\\\\n",
    "y(t) &= \\mathbf{C}x(t) + \\mathbf{D}u(t)\n",
    "\\end{aligned}\n",
    "$$\n",
    "\n"
   ]
  },
  {
   "cell_type": "markdown",
   "id": "890b2e19",
   "metadata": {},
   "source": [
    "D is an instantaneous connection between input $u(t)$ and output $y(t)$, which when we want to discretize the SSM this is unrealistic so D is usually ommitted or $D = 0$.\n",
    "\n",
    "$$\n",
    "\\begin{aligned}\n",
    "x'(t) &= \\mathbf{A}x(t) + \\mathbf{B}u(t) \\\\\n",
    "y(t) &= \\mathbf{C}x(t) \n",
    "\\end{aligned}\n",
    "$$\n",
    "\n",
    "The main challenge with implementing this model is discretization."
   ]
  },
  {
   "cell_type": "markdown",
   "id": "7d3e3552",
   "metadata": {},
   "source": [
    "Also, from Albert GU paper, A must be replaced with HiPPO matrix for necessary improved accuracy.\n",
    "\n",
    "https://arxiv.org/abs/2008.07669"
   ]
  }
 ],
 "metadata": {
  "language_info": {
   "name": "python"
  }
 },
 "nbformat": 4,
 "nbformat_minor": 5
}
