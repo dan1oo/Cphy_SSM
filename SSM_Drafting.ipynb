{
 "cells": [
  {
   "cell_type": "markdown",
   "id": "6258f708",
   "metadata": {},
   "source": [
    "**This Notebook will be used for the purpose of step by step drafting and implementing a SSM in python.**"
   ]
  },
  {
   "cell_type": "markdown",
   "id": "c3121a55",
   "metadata": {},
   "source": [
    "Resources: https://probml.github.io/ssm-book/chapters/ssm/ssm_index.html"
   ]
  },
  {
   "cell_type": "markdown",
   "id": "831e5597",
   "metadata": {},
   "source": []
  }
 ],
 "metadata": {
  "language_info": {
   "name": "python"
  }
 },
 "nbformat": 4,
 "nbformat_minor": 5
}
